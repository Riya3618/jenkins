{
  "nbformat": 4,
  "nbformat_minor": 0,
  "metadata": {
    "colab": {
      "name": "jenkins.ipynb",
      "provenance": []
    },
    "kernelspec": {
      "name": "python3",
      "display_name": "Python 3"
    },
    "language_info": {
      "name": "python"
    }
  },
  "cells": [
    {
      "cell_type": "code",
      "execution_count": 1,
      "metadata": {
        "colab": {
          "base_uri": "https://localhost:8080/"
        },
        "id": "n3bC2kyPa3gZ",
        "outputId": "51965ad1-1be2-4bbc-df52-cf602e1a8659"
      },
      "outputs": [
        {
          "output_type": "stream",
          "name": "stdout",
          "text": [
            "Riya E19CSE303 EB13\n"
          ]
        }
      ],
      "source": [
        "print(\"Riya E19CSE303 EB13\")"
      ]
    }
  ]
}